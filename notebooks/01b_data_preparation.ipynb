{
  "nbformat": 4,
  "nbformat_minor": 0,
  "metadata": {
    "colab": {
      "provenance": [],
      "machine_shape": "hm"
    },
    "kernelspec": {
      "name": "python3",
      "display_name": "Python 3"
    },
    "language_info": {
      "name": "python"
    }
  },
  "cells": [
    {
      "cell_type": "markdown",
      "source": [
        "# 📊 Real Estate Data Consolidation and GCS Upload Script\n",
        "\n",
        "\"\"\"\n",
        "Purpose:\n",
        "This script automates the process of consolidating large real estate data chunks from GCS,\n",
        "performing feature engineering, and uploading the processed file back to GCS.\n",
        "\n",
        "Key Steps:\n",
        "1. Downloading cleaned data chunks from GCS.\n",
        "2. Merging chunks into a single consolidated DataFrame.\n",
        "3. Feature Engineering:\n",
        "   - Extracting Year, Month, Quarter from Date_of_Transfer.\n",
        "   - Calculating Region Code from Postcode.\n",
        "4. Saving the merged data to a local file.\n",
        "5. Uploading the consolidated file to GCS.\n",
        "\n",
        "Expected Output:\n",
        "- A consolidated CSV file containing merged and enhanced data uploaded to GCS.\n",
        "\n",
        "Requirements:\n",
        "- Google Cloud SDK installed and authenticated.\n",
        "- Python libraries: pandas, google-cloud-storage\n",
        "\n",
        "Author: Nguyen Minh Tri\n",
        "Date: April 2025\n",
        "\"\"\"\n"
      ],
      "metadata": {
        "id": "q-qeghLTYsSa"
      }
    },
    {
      "cell_type": "code",
      "source": [
        "from google.colab import auth\n",
        "auth.authenticate_user()"
      ],
      "metadata": {
        "id": "5drOp47v2tgN"
      },
      "execution_count": null,
      "outputs": []
    },
    {
      "cell_type": "code",
      "execution_count": null,
      "metadata": {
        "colab": {
          "base_uri": "https://localhost:8080/"
        },
        "id": "ZbS3Hjvx0L5i",
        "outputId": "e3c9a5a3-12ab-4cab-d286-2fab9ccf2be6"
      },
      "outputs": [
        {
          "output_type": "stream",
          "name": "stdout",
          "text": [
            "Downloaded uk_property_data/processed/cleaned_real_estate_part_1.csv to data/processed/cleaned_real_estate_part_1.csv\n",
            "Downloaded uk_property_data/processed/cleaned_real_estate_part_10.csv to data/processed/cleaned_real_estate_part_10.csv\n",
            "Downloaded uk_property_data/processed/cleaned_real_estate_part_11.csv to data/processed/cleaned_real_estate_part_11.csv\n",
            "Downloaded uk_property_data/processed/cleaned_real_estate_part_12.csv to data/processed/cleaned_real_estate_part_12.csv\n",
            "Downloaded uk_property_data/processed/cleaned_real_estate_part_13.csv to data/processed/cleaned_real_estate_part_13.csv\n",
            "Downloaded uk_property_data/processed/cleaned_real_estate_part_14.csv to data/processed/cleaned_real_estate_part_14.csv\n",
            "Downloaded uk_property_data/processed/cleaned_real_estate_part_15.csv to data/processed/cleaned_real_estate_part_15.csv\n",
            "Downloaded uk_property_data/processed/cleaned_real_estate_part_16.csv to data/processed/cleaned_real_estate_part_16.csv\n",
            "Downloaded uk_property_data/processed/cleaned_real_estate_part_17.csv to data/processed/cleaned_real_estate_part_17.csv\n",
            "Downloaded uk_property_data/processed/cleaned_real_estate_part_18.csv to data/processed/cleaned_real_estate_part_18.csv\n",
            "Downloaded uk_property_data/processed/cleaned_real_estate_part_19.csv to data/processed/cleaned_real_estate_part_19.csv\n",
            "Downloaded uk_property_data/processed/cleaned_real_estate_part_2.csv to data/processed/cleaned_real_estate_part_2.csv\n",
            "Downloaded uk_property_data/processed/cleaned_real_estate_part_20.csv to data/processed/cleaned_real_estate_part_20.csv\n",
            "Downloaded uk_property_data/processed/cleaned_real_estate_part_21.csv to data/processed/cleaned_real_estate_part_21.csv\n",
            "Downloaded uk_property_data/processed/cleaned_real_estate_part_22.csv to data/processed/cleaned_real_estate_part_22.csv\n",
            "Downloaded uk_property_data/processed/cleaned_real_estate_part_23.csv to data/processed/cleaned_real_estate_part_23.csv\n",
            "Downloaded uk_property_data/processed/cleaned_real_estate_part_24.csv to data/processed/cleaned_real_estate_part_24.csv\n",
            "Downloaded uk_property_data/processed/cleaned_real_estate_part_25.csv to data/processed/cleaned_real_estate_part_25.csv\n",
            "Downloaded uk_property_data/processed/cleaned_real_estate_part_26.csv to data/processed/cleaned_real_estate_part_26.csv\n",
            "Downloaded uk_property_data/processed/cleaned_real_estate_part_27.csv to data/processed/cleaned_real_estate_part_27.csv\n",
            "Downloaded uk_property_data/processed/cleaned_real_estate_part_28.csv to data/processed/cleaned_real_estate_part_28.csv\n",
            "Downloaded uk_property_data/processed/cleaned_real_estate_part_29.csv to data/processed/cleaned_real_estate_part_29.csv\n",
            "Downloaded uk_property_data/processed/cleaned_real_estate_part_3.csv to data/processed/cleaned_real_estate_part_3.csv\n",
            "Downloaded uk_property_data/processed/cleaned_real_estate_part_4.csv to data/processed/cleaned_real_estate_part_4.csv\n",
            "Downloaded uk_property_data/processed/cleaned_real_estate_part_5.csv to data/processed/cleaned_real_estate_part_5.csv\n",
            "Downloaded uk_property_data/processed/cleaned_real_estate_part_6.csv to data/processed/cleaned_real_estate_part_6.csv\n",
            "Downloaded uk_property_data/processed/cleaned_real_estate_part_7.csv to data/processed/cleaned_real_estate_part_7.csv\n",
            "Downloaded uk_property_data/processed/cleaned_real_estate_part_8.csv to data/processed/cleaned_real_estate_part_8.csv\n",
            "Downloaded uk_property_data/processed/cleaned_real_estate_part_9.csv to data/processed/cleaned_real_estate_part_9.csv\n",
            "All data chunks downloaded successfully!\n",
            "Found 29 chunks. Merging...\n",
            "Data merged successfully! Shape: (28276227, 15)\n",
            "Consolidated data saved at data/processed/cleaned_real_estate_combined.csv!\n",
            "Uploaded data/processed/cleaned_real_estate_combined.csv to GCS as uk_property_data/processed/cleaned_real_estate_combined.csv\n",
            "All processed files uploaded successfully!\n"
          ]
        }
      ],
      "source": [
        "import pandas as pd\n",
        "import os\n",
        "from google.cloud import storage\n",
        "\n",
        "# Step 1: Download data from GCS\n",
        "bucket_name = \"boothill2001-dataset\"\n",
        "gcs_path = \"uk_property_data/processed/\"\n",
        "local_path = \"data/processed/\"\n",
        "\n",
        "client = storage.Client()\n",
        "bucket = client.bucket(bucket_name)\n",
        "os.makedirs(local_path, exist_ok=True)\n",
        "\n",
        "# Download all chunk files from GCS\n",
        "def download_chunks():\n",
        "    blobs = bucket.list_blobs(prefix=gcs_path)\n",
        "    for blob in blobs:\n",
        "        if blob.name.endswith('.csv'):\n",
        "            local_file_path = os.path.join(local_path, os.path.basename(blob.name))\n",
        "            blob.download_to_filename(local_file_path)\n",
        "            print(f\"Downloaded {blob.name} to {local_file_path}\")\n",
        "\n",
        "download_chunks()\n",
        "print(\"All data chunks downloaded successfully!\")\n",
        "\n",
        "# Step 2: Merge Data Chunks\n",
        "chunk_files = sorted([f for f in os.listdir(local_path) if f.startswith('cleaned_real_estate_part_')])\n",
        "combined_df = pd.DataFrame()\n",
        "\n",
        "print(f\"Found {len(chunk_files)} chunks. Merging...\")\n",
        "\n",
        "for file in chunk_files:\n",
        "    file_path = os.path.join(local_path, file)\n",
        "    chunk_df = pd.read_csv(file_path, low_memory=False)\n",
        "    combined_df = pd.concat([combined_df, chunk_df], ignore_index=True)\n",
        "\n",
        "print(f\"Data merged successfully! Shape: {combined_df.shape}\")\n",
        "\n",
        "# Step 3: Feature Engineering\n",
        "combined_df['Year'] = pd.to_datetime(combined_df['Date_of_Transfer']).dt.year\n",
        "combined_df['Month'] = pd.to_datetime(combined_df['Date_of_Transfer']).dt.month\n",
        "combined_df['Quarter'] = pd.to_datetime(combined_df['Date_of_Transfer']).dt.quarter\n",
        "combined_df['Region_Code'] = combined_df['Postcode'].str.extract(r'([A-Z]+)')\n",
        "\n",
        "# Save the consolidated and processed file\n",
        "output_path = 'data/processed/cleaned_real_estate_combined.csv'\n",
        "combined_df.to_csv(output_path, index=False)\n",
        "print(f\"Consolidated data saved at {output_path}!\")\n",
        "\n",
        "# Step 4: Upload processed file to GCS\n",
        "def upload_to_gcs(local_file_path, gcs_file_path):\n",
        "    try:\n",
        "        blob = bucket.blob(gcs_file_path)\n",
        "        blob.upload_from_filename(local_file_path)\n",
        "        print(f\"Uploaded {local_file_path} to GCS as {gcs_file_path}\")\n",
        "    except Exception as e:\n",
        "        print(f\"Error uploading {local_file_path}: {e}\")\n",
        "\n",
        "upload_to_gcs(output_path, gcs_path + 'cleaned_real_estate_combined.csv')\n",
        "print(\"All processed files uploaded successfully!\")\n"
      ]
    }
  ]
}