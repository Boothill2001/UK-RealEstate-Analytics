{
  "nbformat": 4,
  "nbformat_minor": 0,
  "metadata": {
    "colab": {
      "provenance": [],
      "machine_shape": "hm"
    },
    "kernelspec": {
      "name": "python3",
      "display_name": "Python 3"
    },
    "language_info": {
      "name": "python"
    }
  },
  "cells": [
    {
      "cell_type": "markdown",
      "source": [
        "# 📊 Real Estate Data Preprocessing with GCS Upload\n",
        "\n",
        "\"\"\"\n",
        "This script automates the data pipeline for real estate analytics:\n",
        "\n",
        "✅ Downloads raw data from Google Cloud Storage (GCS)\n",
        "✅ Cleans and preprocesses the data: fixing columns, handling missing values, formatting dates\n",
        "✅ Optimizes data memory usage for efficient processing\n",
        "✅ Saves the processed data in smaller chunks to manage large file sizes\n",
        "✅ Uploads the cleaned data back to GCS for further analysis\n",
        "\n",
        "The dataset contains:\n",
        "- 28,276,227 entries\n",
        "- 15 columns (Object: 8, Category: 5, Datetime: 1, Integer: 1)\n",
        "- Total size: ~14.8 GB\n",
        "\n",
        "This script is essential for efficiently handling large-scale real estate transaction data.\n",
        "\"\"\"\n"
      ],
      "metadata": {
        "id": "RBvQQ19Bmkjt"
      }
    },
    {
      "cell_type": "code",
      "source": [
        "# Real Estate Data Preprocessing and Upload Script\n",
        "#\n",
        "# Dataset Information:\n",
        "# - Total Entries: 28,276,227\n",
        "# - Columns: 15\n",
        "# - File Size: ~14.8 GB\n",
        "# - Data Types:\n",
        "#   - Object: 8 columns\n",
        "#   - Category: 5 columns\n",
        "#   - Datetime: 1 column\n",
        "#   - Integer: 1 column\n",
        "#\n",
        "# Description:\n",
        "# This script is designed to automate the process of downloading, preprocessing, and uploading large real estate datasets.\n",
        "# It handles the following tasks:\n",
        "# 1. Downloading raw data from Google Cloud Storage (GCS).\n",
        "# 2. Cleaning and preprocessing the data: fixing column names, handling missing values, formatting dates, and optimizing memory.\n",
        "# 3. Saving processed data in smaller chunks to efficiently manage large file sizes.\n",
        "# 4. Uploading the cleaned data back to GCS for further analysis and modeling.\n",
        "#\n",
        "# This script is structured to handle real estate transaction data from the UK, including information such as price, date of transfer, property type, and location details.\n",
        "#\n",
        "# Usage:\n",
        "# Run this script on a Colab environment or any environment with access to GCS.\n",
        "# Ensure that you have properly authenticated using Google Cloud credentials before running.\n",
        "#\n",
        "# Description:\n",
        "# This script is designed to automate the process of downloading, preprocessing, and uploading large real estate datasets.\n",
        "# It handles the following tasks:\n",
        "# 1. Downloading raw data from Google Cloud Storage (GCS).\n",
        "# 2. Cleaning and preprocessing the data: fixing column names, handling missing values, formatting dates, and optimizing memory.\n",
        "# 3. Saving processed data in smaller chunks to efficiently manage large file sizes.\n",
        "# 4. Uploading the cleaned data back to GCS for further analysis and modeling.\n",
        "#\n",
        "# This script is structured to handle real estate transaction data from the UK, including information such as price, date of transfer, property type, and location details.\n",
        "#\n",
        "# Usage:\n",
        "# Run this script on a Colab environment or any environment with access to GCS.\n",
        "# Ensure that you have properly authenticated using Google Cloud credentials before running."
      ],
      "metadata": {
        "id": "4ZnyX9dMnsBd"
      },
      "execution_count": 17,
      "outputs": []
    },
    {
      "cell_type": "code",
      "source": [
        "from google.colab import auth\n",
        "auth.authenticate_user()"
      ],
      "metadata": {
        "id": "dU7p4kb2dDWy"
      },
      "execution_count": 7,
      "outputs": []
    },
    {
      "cell_type": "code",
      "execution_count": 8,
      "metadata": {
        "colab": {
          "base_uri": "https://localhost:8080/"
        },
        "id": "WucTls8Ncuho",
        "outputId": "06d7a032-97a1-4037-8351-7317bd9dbfe7"
      },
      "outputs": [
        {
          "output_type": "stream",
          "name": "stdout",
          "text": [
            "Data downloaded successfully from GCS to data/raw/202304.csv!\n"
          ]
        }
      ],
      "source": [
        "import os\n",
        "from google.cloud import storage\n",
        "\n",
        "# Set your GCS bucket name and file path\n",
        "bucket_name = \"boothill2001-dataset\"\n",
        "gcs_path = \"uk_property_data/202304.csv\"\n",
        "local_path = \"data/raw/202304.csv\"\n",
        "\n",
        "# Initialize GCS client\n",
        "client = storage.Client()\n",
        "\n",
        "# Download the file from GCS\n",
        "try:\n",
        "    bucket = client.get_bucket(bucket_name)\n",
        "    blob = bucket.blob(gcs_path)\n",
        "    os.makedirs(\"data/raw\", exist_ok=True)\n",
        "    blob.download_to_filename(local_path)\n",
        "    print(f\"Data downloaded successfully from GCS to {local_path}!\")\n",
        "except Exception as e:\n",
        "    print(f\"Error downloading data: {e}\")\n"
      ]
    },
    {
      "cell_type": "code",
      "source": [
        "import pandas as pd\n",
        "\n",
        "# Load the downloaded file to verify\n",
        "try:\n",
        "    df = pd.read_csv(local_path)\n",
        "    print(f\"Data loaded successfully! Shape: {df.shape}\")\n",
        "    print(df.head())\n",
        "except Exception as e:\n",
        "    print(f\"Error loading data: {e}\")\n"
      ],
      "metadata": {
        "colab": {
          "base_uri": "https://localhost:8080/"
        },
        "id": "s7aQ6DIvdyCm",
        "outputId": "2e6ec1b6-493c-44c9-83c9-65c0d00660da"
      },
      "execution_count": 9,
      "outputs": [
        {
          "output_type": "stream",
          "name": "stdout",
          "text": [
            "Data loaded successfully! Shape: (28276227, 16)\n",
            "   {F887F88E-7D15-4415-804E-52EAC2F10958}  70000  1995-07-07 00:00 MK15 9HP  \\\n",
            "0  {40FD4DF2-5362-407C-92BC-566E2CCE89E9}  44500  1995-02-03 00:00  SR6 0AQ   \n",
            "1  {7A99F89E-7D81-4E45-ABD5-566E49A045EA}  56500  1995-01-13 00:00  CO6 1SQ   \n",
            "2  {28225260-E61C-4E57-8B56-566E5285B1C1}  58000  1995-07-28 00:00  B90 4TG   \n",
            "3  {444D34D7-9BA6-43A7-B695-4F48980E0176}  51000  1995-06-28 00:00  DY5 1SA   \n",
            "4  {AE76CAF1-F8CC-43F9-8F63-4F48A2857D41}  17000  1995-03-10 00:00  S65 1QJ   \n",
            "\n",
            "   D  N  F  31 Unnamed: 8     ALDRICH DRIVE         WILLEN  MILTON KEYNES  \\\n",
            "0  T  N  F  50        NaN       HOWICK PARK     SUNDERLAND     SUNDERLAND   \n",
            "1  T  N  F  19        NaN  BRICK KILN CLOSE     COGGESHALL     COLCHESTER   \n",
            "2  T  N  F  37        NaN  RAINSBROOK DRIVE        SHIRLEY       SOLIHULL   \n",
            "3  S  N  F  59        NaN        MERRY HILL  BRIERLEY HILL  BRIERLEY HILL   \n",
            "4  T  N  L  22        NaN     DENMAN STREET      ROTHERHAM      ROTHERHAM   \n",
            "\n",
            "  MILTON KEYNES.1  MILTON KEYNES.2  A A.1  \n",
            "0      SUNDERLAND    TYNE AND WEAR  A   A  \n",
            "1       BRAINTREE            ESSEX  A   A  \n",
            "2        SOLIHULL    WEST MIDLANDS  A   A  \n",
            "3          DUDLEY    WEST MIDLANDS  A   A  \n",
            "4       ROTHERHAM  SOUTH YORKSHIRE  A   A  \n"
          ]
        }
      ]
    },
    {
      "cell_type": "code",
      "source": [
        "# Display basic information\n",
        "print(\"Data Information:\")\n",
        "df.info()\n",
        "\n",
        "# Display the first 5 rows\n",
        "print(\"First 5 rows:\")\n",
        "print(df.head())\n",
        "\n",
        "# Check the columns\n",
        "print(\"List of columns:\")\n",
        "print(df.columns)"
      ],
      "metadata": {
        "colab": {
          "base_uri": "https://localhost:8080/"
        },
        "id": "eCY1gbqPfqkV",
        "outputId": "c32f5e23-8266-4a10-ad30-ed80469144f8"
      },
      "execution_count": 10,
      "outputs": [
        {
          "output_type": "stream",
          "name": "stdout",
          "text": [
            "Data Information:\n",
            "<class 'pandas.core.frame.DataFrame'>\n",
            "RangeIndex: 28276227 entries, 0 to 28276226\n",
            "Data columns (total 16 columns):\n",
            " #   Column                                  Dtype \n",
            "---  ------                                  ----- \n",
            " 0   {F887F88E-7D15-4415-804E-52EAC2F10958}  object\n",
            " 1   70000                                   int64 \n",
            " 2   1995-07-07 00:00                        object\n",
            " 3   MK15 9HP                                object\n",
            " 4   D                                       object\n",
            " 5   N                                       object\n",
            " 6   F                                       object\n",
            " 7   31                                      object\n",
            " 8   Unnamed: 8                              object\n",
            " 9   ALDRICH DRIVE                           object\n",
            " 10  WILLEN                                  object\n",
            " 11  MILTON KEYNES                           object\n",
            " 12  MILTON KEYNES.1                         object\n",
            " 13  MILTON KEYNES.2                         object\n",
            " 14  A                                       object\n",
            " 15  A.1                                     object\n",
            "dtypes: int64(1), object(15)\n",
            "memory usage: 3.4+ GB\n",
            "First 5 rows:\n",
            "   {F887F88E-7D15-4415-804E-52EAC2F10958}  70000  1995-07-07 00:00 MK15 9HP  \\\n",
            "0  {40FD4DF2-5362-407C-92BC-566E2CCE89E9}  44500  1995-02-03 00:00  SR6 0AQ   \n",
            "1  {7A99F89E-7D81-4E45-ABD5-566E49A045EA}  56500  1995-01-13 00:00  CO6 1SQ   \n",
            "2  {28225260-E61C-4E57-8B56-566E5285B1C1}  58000  1995-07-28 00:00  B90 4TG   \n",
            "3  {444D34D7-9BA6-43A7-B695-4F48980E0176}  51000  1995-06-28 00:00  DY5 1SA   \n",
            "4  {AE76CAF1-F8CC-43F9-8F63-4F48A2857D41}  17000  1995-03-10 00:00  S65 1QJ   \n",
            "\n",
            "   D  N  F  31 Unnamed: 8     ALDRICH DRIVE         WILLEN  MILTON KEYNES  \\\n",
            "0  T  N  F  50        NaN       HOWICK PARK     SUNDERLAND     SUNDERLAND   \n",
            "1  T  N  F  19        NaN  BRICK KILN CLOSE     COGGESHALL     COLCHESTER   \n",
            "2  T  N  F  37        NaN  RAINSBROOK DRIVE        SHIRLEY       SOLIHULL   \n",
            "3  S  N  F  59        NaN        MERRY HILL  BRIERLEY HILL  BRIERLEY HILL   \n",
            "4  T  N  L  22        NaN     DENMAN STREET      ROTHERHAM      ROTHERHAM   \n",
            "\n",
            "  MILTON KEYNES.1  MILTON KEYNES.2  A A.1  \n",
            "0      SUNDERLAND    TYNE AND WEAR  A   A  \n",
            "1       BRAINTREE            ESSEX  A   A  \n",
            "2        SOLIHULL    WEST MIDLANDS  A   A  \n",
            "3          DUDLEY    WEST MIDLANDS  A   A  \n",
            "4       ROTHERHAM  SOUTH YORKSHIRE  A   A  \n",
            "List of columns:\n",
            "Index(['{F887F88E-7D15-4415-804E-52EAC2F10958}', '70000', '1995-07-07 00:00',\n",
            "       'MK15 9HP', 'D', 'N', 'F', '31', 'Unnamed: 8', 'ALDRICH DRIVE',\n",
            "       'WILLEN', 'MILTON KEYNES', 'MILTON KEYNES.1', 'MILTON KEYNES.2', 'A',\n",
            "       'A.1'],\n",
            "      dtype='object')\n"
          ]
        }
      ]
    },
    {
      "cell_type": "code",
      "source": [
        "# Check for missing values\n",
        "missing_values = df.isnull().sum()\n",
        "print(\"Missing values:\")\n",
        "print(missing_values[missing_values > 0])\n"
      ],
      "metadata": {
        "colab": {
          "base_uri": "https://localhost:8080/"
        },
        "id": "xL0IZbB4frxs",
        "outputId": "8afba790-beb3-4d4a-8096-054d7cf128bc"
      },
      "execution_count": 11,
      "outputs": [
        {
          "output_type": "stream",
          "name": "stdout",
          "text": [
            "Missing values:\n",
            "MK15 9HP            45969\n",
            "31                   4189\n",
            "Unnamed: 8       24950367\n",
            "ALDRICH DRIVE      447756\n",
            "WILLEN           10085851\n",
            "dtype: int64\n"
          ]
        }
      ]
    },
    {
      "cell_type": "code",
      "source": [
        "import os\n",
        "import pandas as pd\n",
        "from google.cloud import storage\n",
        "\n",
        "# Step 1: Download data from GCS\n",
        "bucket_name = \"boothill2001-dataset\"\n",
        "gcs_path = \"uk_property_data/202304.csv\"\n",
        "local_path = \"data/raw/202304.csv\"\n",
        "\n",
        "client = storage.Client()\n",
        "bucket = client.bucket(bucket_name)\n",
        "blob = bucket.blob(gcs_path)\n",
        "os.makedirs(\"data/raw\", exist_ok=True)\n",
        "blob.download_to_filename(local_path)\n",
        "print(f\"Data downloaded successfully from GCS to {local_path}!\")\n",
        "\n",
        "# Step 2: Load data\n",
        "df = pd.read_csv(local_path, low_memory=False)\n",
        "print(\"Data loaded successfully! Shape:\", df.shape)\n",
        "\n",
        "# Step 3: Fix Column Names\n",
        "fixed_columns = [\n",
        "    'Transaction_ID', 'Price', 'Date_of_Transfer', 'Postcode', 'Property_Type',\n",
        "    'Old/New', 'Duration', 'PAON', 'SAON', 'Street', 'Locality',\n",
        "    'Town/City', 'District', 'County', 'PPDCategory_Type', 'Record_Status'\n",
        "]\n",
        "\n",
        "if len(df.columns) == len(fixed_columns):\n",
        "    df.columns = fixed_columns\n",
        "else:\n",
        "    print(f\"Column count mismatch: expected {len(fixed_columns)}, got {len(df.columns)}\")\n",
        "\n",
        "# Step 4: Drop Unnecessary Columns\n",
        "drop_cols = ['Unnamed: 8', 'A', 'A.1']\n",
        "df = df.drop(columns=[col for col in drop_cols if col in df.columns], errors='ignore')\n",
        "\n",
        "# Step 5: Handle Missing Values\n",
        "threshold = len(df) * 0.5\n",
        "df = df.dropna(axis=1, thresh=threshold)\n",
        "df.loc[:, 'Postcode'] = df['Postcode'].fillna(df['Postcode'].mode()[0])\n",
        "df.loc[:, 'PAON'] = df['PAON'].fillna(df['PAON'].mode()[0])\n",
        "df.loc[:, 'Street'] = df['Street'].fillna('Unknown')\n",
        "\n",
        "# Step 6: Format Date Column\n",
        "df['Date_of_Transfer'] = pd.to_datetime(df['Date_of_Transfer'], errors='coerce')\n",
        "\n",
        "# Step 7: Memory Optimization\n",
        "df['Price'] = pd.to_numeric(df['Price'], errors='coerce', downcast='integer')\n",
        "categorical_cols = ['Property_Type', 'Old/New', 'Duration', 'PPDCategory_Type', 'Record_Status']\n",
        "for col in categorical_cols:\n",
        "    df[col] = df[col].astype('category')\n",
        "\n",
        "print(\"Optimized Data Information:\")\n",
        "print(df.info(memory_usage='deep'))\n",
        "\n",
        "# Step 8: Save processed data in chunks\n",
        "chunk_size = 1000000  # 1 million rows per file\n",
        "os.makedirs('data/processed', exist_ok=True)\n",
        "\n",
        "for i, chunk in enumerate(range(0, len(df), chunk_size)):\n",
        "    chunk_df = df.iloc[chunk:chunk + chunk_size]\n",
        "    file_name = f'data/processed/cleaned_real_estate_part_{i+1}.csv'\n",
        "    chunk_df.to_csv(file_name, index=False)\n",
        "    print(f\"Saved chunk {i+1} to {file_name}\")\n",
        "\n",
        "# Step 9: Upload processed files to GCS\n",
        "gcs_processed_folder = \"uk_property_data/processed/\"\n",
        "\n",
        "for file_name in os.listdir('data/processed/'):\n",
        "    local_file_path = os.path.join('data/processed/', file_name)\n",
        "    gcs_file_path = gcs_processed_folder + file_name\n",
        "    try:\n",
        "        blob = bucket.blob(gcs_file_path)\n",
        "        blob.upload_from_filename(local_file_path)\n",
        "        print(f\"Uploaded {file_name} to GCS at {gcs_file_path}\")\n",
        "    except Exception as e:\n",
        "        print(f\"Error uploading {file_name}: {e}\")\n",
        "\n",
        "print(\"All processed files uploaded successfully!\")"
      ],
      "metadata": {
        "colab": {
          "base_uri": "https://localhost:8080/"
        },
        "id": "qg5ljqEbftDQ",
        "outputId": "62402cda-805c-41fa-ed77-58bf443d7343"
      },
      "execution_count": 16,
      "outputs": [
        {
          "output_type": "stream",
          "name": "stdout",
          "text": [
            "Data downloaded successfully from GCS to data/raw/202304.csv!\n",
            "Data loaded successfully! Shape: (28276227, 16)\n",
            "Optimized Data Information:\n",
            "<class 'pandas.core.frame.DataFrame'>\n",
            "RangeIndex: 28276227 entries, 0 to 28276226\n",
            "Data columns (total 15 columns):\n",
            " #   Column            Dtype         \n",
            "---  ------            -----         \n",
            " 0   Transaction_ID    object        \n",
            " 1   Price             int32         \n",
            " 2   Date_of_Transfer  datetime64[ns]\n",
            " 3   Postcode          object        \n",
            " 4   Property_Type     category      \n",
            " 5   Old/New           category      \n",
            " 6   Duration          category      \n",
            " 7   PAON              object        \n",
            " 8   Street            object        \n",
            " 9   Locality          object        \n",
            " 10  Town/City         object        \n",
            " 11  District          object        \n",
            " 12  County            object        \n",
            " 13  PPDCategory_Type  category      \n",
            " 14  Record_Status     category      \n",
            "dtypes: category(5), datetime64[ns](1), int32(1), object(8)\n",
            "memory usage: 14.8 GB\n",
            "None\n",
            "Saved chunk 1 to data/processed/cleaned_real_estate_part_1.csv\n",
            "Saved chunk 2 to data/processed/cleaned_real_estate_part_2.csv\n",
            "Saved chunk 3 to data/processed/cleaned_real_estate_part_3.csv\n",
            "Saved chunk 4 to data/processed/cleaned_real_estate_part_4.csv\n",
            "Saved chunk 5 to data/processed/cleaned_real_estate_part_5.csv\n",
            "Saved chunk 6 to data/processed/cleaned_real_estate_part_6.csv\n",
            "Saved chunk 7 to data/processed/cleaned_real_estate_part_7.csv\n",
            "Saved chunk 8 to data/processed/cleaned_real_estate_part_8.csv\n",
            "Saved chunk 9 to data/processed/cleaned_real_estate_part_9.csv\n",
            "Saved chunk 10 to data/processed/cleaned_real_estate_part_10.csv\n",
            "Saved chunk 11 to data/processed/cleaned_real_estate_part_11.csv\n",
            "Saved chunk 12 to data/processed/cleaned_real_estate_part_12.csv\n",
            "Saved chunk 13 to data/processed/cleaned_real_estate_part_13.csv\n",
            "Saved chunk 14 to data/processed/cleaned_real_estate_part_14.csv\n",
            "Saved chunk 15 to data/processed/cleaned_real_estate_part_15.csv\n",
            "Saved chunk 16 to data/processed/cleaned_real_estate_part_16.csv\n",
            "Saved chunk 17 to data/processed/cleaned_real_estate_part_17.csv\n",
            "Saved chunk 18 to data/processed/cleaned_real_estate_part_18.csv\n",
            "Saved chunk 19 to data/processed/cleaned_real_estate_part_19.csv\n",
            "Saved chunk 20 to data/processed/cleaned_real_estate_part_20.csv\n",
            "Saved chunk 21 to data/processed/cleaned_real_estate_part_21.csv\n",
            "Saved chunk 22 to data/processed/cleaned_real_estate_part_22.csv\n",
            "Saved chunk 23 to data/processed/cleaned_real_estate_part_23.csv\n",
            "Saved chunk 24 to data/processed/cleaned_real_estate_part_24.csv\n",
            "Saved chunk 25 to data/processed/cleaned_real_estate_part_25.csv\n",
            "Saved chunk 26 to data/processed/cleaned_real_estate_part_26.csv\n",
            "Saved chunk 27 to data/processed/cleaned_real_estate_part_27.csv\n",
            "Saved chunk 28 to data/processed/cleaned_real_estate_part_28.csv\n",
            "Saved chunk 29 to data/processed/cleaned_real_estate_part_29.csv\n",
            "Uploaded cleaned_real_estate_part_28.csv to GCS at uk_property_data/processed/cleaned_real_estate_part_28.csv\n",
            "Uploaded cleaned_real_estate_part_21.csv to GCS at uk_property_data/processed/cleaned_real_estate_part_21.csv\n",
            "Uploaded cleaned_real_estate_part_12.csv to GCS at uk_property_data/processed/cleaned_real_estate_part_12.csv\n",
            "Uploaded cleaned_real_estate_part_3.csv to GCS at uk_property_data/processed/cleaned_real_estate_part_3.csv\n",
            "Uploaded cleaned_real_estate_part_11.csv to GCS at uk_property_data/processed/cleaned_real_estate_part_11.csv\n",
            "Uploaded cleaned_real_estate_part_7.csv to GCS at uk_property_data/processed/cleaned_real_estate_part_7.csv\n",
            "Uploaded cleaned_real_estate_part_18.csv to GCS at uk_property_data/processed/cleaned_real_estate_part_18.csv\n",
            "Uploaded cleaned_real_estate_part_29.csv to GCS at uk_property_data/processed/cleaned_real_estate_part_29.csv\n",
            "Uploaded cleaned_real_estate_part_8.csv to GCS at uk_property_data/processed/cleaned_real_estate_part_8.csv\n",
            "Uploaded cleaned_real_estate_part_9.csv to GCS at uk_property_data/processed/cleaned_real_estate_part_9.csv\n",
            "Uploaded cleaned_real_estate_part_14.csv to GCS at uk_property_data/processed/cleaned_real_estate_part_14.csv\n",
            "Uploaded cleaned_real_estate_part_6.csv to GCS at uk_property_data/processed/cleaned_real_estate_part_6.csv\n",
            "Uploaded cleaned_real_estate_part_19.csv to GCS at uk_property_data/processed/cleaned_real_estate_part_19.csv\n",
            "Uploaded cleaned_real_estate_part_23.csv to GCS at uk_property_data/processed/cleaned_real_estate_part_23.csv\n",
            "Uploaded cleaned_real_estate_part_22.csv to GCS at uk_property_data/processed/cleaned_real_estate_part_22.csv\n",
            "Uploaded cleaned_real_estate_part_10.csv to GCS at uk_property_data/processed/cleaned_real_estate_part_10.csv\n",
            "Uploaded cleaned_real_estate_part_16.csv to GCS at uk_property_data/processed/cleaned_real_estate_part_16.csv\n",
            "Uploaded cleaned_real_estate_part_5.csv to GCS at uk_property_data/processed/cleaned_real_estate_part_5.csv\n",
            "Uploaded cleaned_real_estate_part_2.csv to GCS at uk_property_data/processed/cleaned_real_estate_part_2.csv\n",
            "Uploaded cleaned_real_estate_part_26.csv to GCS at uk_property_data/processed/cleaned_real_estate_part_26.csv\n",
            "Uploaded cleaned_real_estate_part_24.csv to GCS at uk_property_data/processed/cleaned_real_estate_part_24.csv\n",
            "Uploaded cleaned_real_estate_part_1.csv to GCS at uk_property_data/processed/cleaned_real_estate_part_1.csv\n",
            "Uploaded cleaned_real_estate_part_27.csv to GCS at uk_property_data/processed/cleaned_real_estate_part_27.csv\n",
            "Uploaded cleaned_real_estate_part_13.csv to GCS at uk_property_data/processed/cleaned_real_estate_part_13.csv\n",
            "Uploaded cleaned_real_estate_part_15.csv to GCS at uk_property_data/processed/cleaned_real_estate_part_15.csv\n",
            "Uploaded cleaned_real_estate_part_4.csv to GCS at uk_property_data/processed/cleaned_real_estate_part_4.csv\n",
            "Uploaded cleaned_real_estate_part_17.csv to GCS at uk_property_data/processed/cleaned_real_estate_part_17.csv\n",
            "Uploaded cleaned_real_estate_part_25.csv to GCS at uk_property_data/processed/cleaned_real_estate_part_25.csv\n",
            "Uploaded cleaned_real_estate_part_20.csv to GCS at uk_property_data/processed/cleaned_real_estate_part_20.csv\n",
            "All processed files uploaded successfully!\n"
          ]
        }
      ]
    },
    {
      "cell_type": "code",
      "source": [
        "import matplotlib.pyplot as plt\n",
        "import seaborn as sns\n",
        "import matplotlib.ticker as mtick\n",
        "\n",
        "plt.figure(figsize=(12, 7))\n",
        "sns.set(style=\"whitegrid\")\n",
        "\n",
        "# Logarithmic transformation for better visualization\n",
        "sns.histplot(df['Price'], bins=50, kde=True, log_scale=(True, False), color=\"skyblue\")\n",
        "\n",
        "# Formatting the x-axis for large numbers\n",
        "plt.gca().xaxis.set_major_formatter(mtick.FuncFormatter(lambda x, _: f'{int(x):,}'))\n",
        "\n",
        "# Adding titles and labels\n",
        "plt.title('Distribution of Property Prices (Log Scale)', fontsize=16, fontweight='bold')\n",
        "plt.xlabel('Property Price (Log Scale)', fontsize=14)\n",
        "plt.ylabel('Frequency', fontsize=14)\n",
        "\n",
        "# Display the plot\n",
        "plt.show()\n"
      ],
      "metadata": {
        "colab": {
          "base_uri": "https://localhost:8080/",
          "height": 653
        },
        "id": "GydSmXPtoYf5",
        "outputId": "da9c2df6-d97b-404c-e9b5-959519b2ddb1"
      },
      "execution_count": 21,
      "outputs": [
        {
          "output_type": "display_data",
          "data": {
            "text/plain": [
              "<Figure size 1200x700 with 1 Axes>"
            ],
            "image/png": "[encoded data removed]"
          },
          "metadata": {}
        }
      ]
    },
    {
      "cell_type": "code",
      "source": [
        "import matplotlib.pyplot as plt\n",
        "import seaborn as sns\n",
        "\n",
        "plt.figure(figsize=(10, 6))\n",
        "sns.set(style=\"whitegrid\")\n",
        "\n",
        "# Plotting the property type distribution\n",
        "ax = sns.countplot(data=df, x='Property_Type', palette='pastel')\n",
        "\n",
        "# Adding title and labels\n",
        "plt.title('Distribution of Property Types', fontsize=16, fontweight='bold')\n",
        "plt.xlabel('Property Type', fontsize=14)\n",
        "plt.ylabel('Count', fontsize=14)\n",
        "\n",
        "# Adding value labels on top of bars\n",
        "for p in ax.patches:\n",
        "    ax.annotate(f'{int(p.get_height()):,}', (p.get_x() + p.get_width() / 2., p.get_height()),\n",
        "                ha='center', va='baseline', fontsize=12, color='black', xytext=(0, 5),\n",
        "                textcoords='offset points')\n",
        "\n",
        "# Rotate x-axis labels for better readability\n",
        "plt.xticks(rotation=45, ha='right')\n",
        "\n",
        "# Display the plot\n",
        "plt.show()\n",
        "\n"
      ],
      "metadata": {
        "colab": {
          "base_uri": "https://localhost:8080/",
          "height": 687
        },
        "id": "5-7vkNeeqsHQ",
        "outputId": "9f0fb029-f6db-4d63-bbe1-d72de73033b2"
      },
      "execution_count": 22,
      "outputs": [
        {
          "output_type": "stream",
          "name": "stderr",
          "text": [
            "<ipython-input-22-2171b553b071>:8: FutureWarning: \n",
            "\n",
            "Passing `palette` without assigning `hue` is deprecated and will be removed in v0.14.0. Assign the `x` variable to `hue` and set `legend=False` for the same effect.\n",
            "\n",
            "  ax = sns.countplot(data=df, x='Property_Type', palette='pastel')\n"
          ]
        },
        {
          "output_type": "display_data",
          "data": {
            "text/plain": [
              "<Figure size 1000x600 with 1 Axes>"
            ],
            "image/png": "[encoded data removed]"
          },
          "metadata": {}
        }
      ]
    },
    {
      "cell_type": "code",
      "source": [
        "print(f\"Average Property Price: {df['Price'].mean():,.2f}\")\n",
        "print(f\"Top 5 Most Expensive Cities: {df.groupby('Town/City')['Price'].mean().nlargest(5)}\")"
      ],
      "metadata": {
        "colab": {
          "base_uri": "https://localhost:8080/"
        },
        "id": "l85b6oJaoWE0",
        "outputId": "2cb46c57-2e1e-4fc3-ba44-0dcfc89d05ea"
      },
      "execution_count": 18,
      "outputs": [
        {
          "output_type": "stream",
          "name": "stdout",
          "text": [
            "Average Property Price: 218,130.50\n",
            "Top 5 Most Expensive Cities: Town/City\n",
            "GATWICK              2.823281e+07\n",
            "THORNHILL            9.850000e+05\n",
            "VIRGINIA WATER       9.315949e+05\n",
            "CHALFONT ST GILES    8.414951e+05\n",
            "COBHAM               7.364758e+05\n",
            "Name: Price, dtype: float64\n"
          ]
        }
      ]
    },
    {
      "cell_type": "markdown",
      "source": [
        "## 📌 Summary and Next Steps\n",
        "- Data cleaned and preprocessed successfully.\n",
        "- Major insights:\n",
        "  - Top 5 cities with the highest average property price.\n",
        "  - Most common property types.\n",
        "- Next Steps:\n",
        "  - Build predictive models for price estimation.\n",
        "  - Explore temporal trends in property transactions.\n"
      ],
      "metadata": {
        "id": "oencCUVDqe5G"
      }
    }
  ]
}